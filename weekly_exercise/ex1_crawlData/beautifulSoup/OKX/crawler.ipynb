{
 "cells": [
  {
   "cell_type": "markdown",
   "metadata": {},
   "source": [
    "# Crawl dữ liệu"
   ]
  },
  {
   "cell_type": "code",
   "execution_count": 2,
   "metadata": {},
   "outputs": [
    {
     "name": "stdout",
     "output_type": "stream",
     "text": [
      "🔄 Đang tải trang 1: https://www.okx.com/vi/markets/prices\n",
      "🔄 Đang tải trang 2: https://www.okx.com/vi/markets/prices/page/2\n",
      "🔄 Đang tải trang 3: https://www.okx.com/vi/markets/prices/page/3\n",
      "🔄 Đang tải trang 4: https://www.okx.com/vi/markets/prices/page/4\n",
      "🔄 Đang tải trang 5: https://www.okx.com/vi/markets/prices/page/5\n",
      "🔄 Đang tải trang 6: https://www.okx.com/vi/markets/prices/page/6\n",
      "🔄 Đang tải trang 7: https://www.okx.com/vi/markets/prices/page/7\n",
      "🔄 Đang tải trang 8: https://www.okx.com/vi/markets/prices/page/8\n",
      "🔄 Đang tải trang 9: https://www.okx.com/vi/markets/prices/page/9\n",
      "🔄 Đang tải trang 10: https://www.okx.com/vi/markets/prices/page/10\n",
      "🔄 Đang tải trang 11: https://www.okx.com/vi/markets/prices/page/11\n",
      "🔄 Đang tải trang 12: https://www.okx.com/vi/markets/prices/page/12\n",
      "✅ Dữ liệu đã được lưu vào d:\\E\\2024.2\\khdl (DS)\\weekly\\DataScience\\weekly_exercise\\ex1_crawlData\\beautifulSoup\\OKX\\okx_prices_all_pages.csv\n"
     ]
    }
   ],
   "source": [
    "import os\n",
    "import pandas as pd\n",
    "import cloudscraper\n",
    "from bs4 import BeautifulSoup\n",
    "\n",
    "# Khởi tạo cloudscraper để vượt qua Cloudflare\n",
    "scraper = cloudscraper.create_scraper()\n",
    "\n",
    "# Base URL của OKX (trang 1 là base URL, các trang sau theo dạng /page/{số trang})\n",
    "base_url = \"https://www.okx.com/vi/markets/prices\"\n",
    "all_data = []\n",
    "\n",
    "# Lặp qua 12 trang\n",
    "for page in range(1, 13):\n",
    "    if page == 1:\n",
    "        url = base_url\n",
    "    else:\n",
    "        url = base_url + \"/page/\" + str(page)\n",
    "    print(f\"🔄 Đang tải trang {page}: {url}\")\n",
    "    \n",
    "    response = scraper.get(url, timeout=10)\n",
    "    if response.status_code != 200:\n",
    "        print(f\"❌ Lỗi {response.status_code} khi tải trang {url}\")\n",
    "        continue\n",
    "\n",
    "    soup = BeautifulSoup(response.content, \"html.parser\")\n",
    "    \n",
    "    # Tìm table chứa dữ liệu (theo class của table trên OKX)\n",
    "    table = soup.find(\"table\", class_=\"table-box token-list-table\")\n",
    "    if not table:\n",
    "        print(f\"❌ Không tìm thấy table trên trang {page}\")\n",
    "        continue\n",
    "    \n",
    "    # Lấy header từ thead nếu có\n",
    "    thead = table.find(\"thead\")\n",
    "    headers = []\n",
    "    if thead:\n",
    "        header_row = thead.find(\"tr\")\n",
    "        if header_row:\n",
    "            headers = [th.get_text(strip=True) for th in header_row.find_all(\"th\")]\n",
    "    # Nếu không có header, định nghĩa header mặc định\n",
    "    if not headers:\n",
    "        headers = [\"Tên\", \"Giá/Th.đổi (24 giờ)\"]\n",
    "    \n",
    "    tbody = table.find(\"tbody\")\n",
    "    if not tbody:\n",
    "        print(f\"❌ Không tìm thấy tbody trên trang {page}\")\n",
    "        continue\n",
    "    rows = tbody.find_all(\"tr\")\n",
    "    \n",
    "    for row in rows:\n",
    "        cols = row.find_all(\"td\")\n",
    "        row_data = [col.get_text(strip=True) for col in cols]\n",
    "        all_data.append(row_data)\n",
    "\n",
    "# Tạo DataFrame từ dữ liệu đã thu thập\n",
    "df = pd.DataFrame(all_data, columns=headers)\n",
    "# Nếu có cột trùng lặp (ví dụ, do trang có header lặp), loại bỏ chúng:\n",
    "df = df.loc[:, ~df.columns.duplicated()]\n",
    "\n",
    "# Lưu DataFrame ra file CSV (encoding để hỗ trợ tiếng Việt)\n",
    "csv_path = os.path.join(os.getcwd(), \"okx_prices_all_pages.csv\")\n",
    "df.to_csv(csv_path, index=False, encoding=\"utf-8-sig\")\n",
    "\n",
    "print(f\"✅ Dữ liệu đã được lưu vào {csv_path}\")\n"
   ]
  },
  {
   "cell_type": "markdown",
   "metadata": {},
   "source": [
    "# Thống kê về dữ liệu đã thu thập"
   ]
  },
  {
   "cell_type": "code",
   "execution_count": 3,
   "metadata": {},
   "outputs": [],
   "source": [
    "# Đọc dữ liệu từ file CSV (đảm bảo encoding phù hợp)\n",
    "df = pd.read_csv(\"okx_prices_all_pages.csv\", encoding=\"utf-8-sig\")"
   ]
  },
  {
   "cell_type": "markdown",
   "metadata": {},
   "source": [
    "Hiển thị 5 dòng đầu tiên"
   ]
  },
  {
   "cell_type": "code",
   "execution_count": 4,
   "metadata": {},
   "outputs": [
    {
     "name": "stdout",
     "output_type": "stream",
     "text": [
      "5 dòng đầu tiên:\n",
      "           Tên Giá/Th.đổi (24 giờ)\n",
      "0   BTCBitcoin    $91.904,10+1,43%\n",
      "1  ETHEthereum     $2.297,38+2,49%\n",
      "2    XRPRipple       $2,5104+0,42%\n",
      "3   USDTTether      $0,99970+0,01%\n",
      "4       BNBBNB       $605,50+1,19%\n"
     ]
    }
   ],
   "source": [
    "print(\"5 dòng đầu tiên:\")\n",
    "print(df.head())"
   ]
  },
  {
   "cell_type": "markdown",
   "metadata": {},
   "source": [
    "Hiển thị thông tin tổng quát của DataFrame"
   ]
  },
  {
   "cell_type": "code",
   "execution_count": 5,
   "metadata": {},
   "outputs": [
    {
     "name": "stdout",
     "output_type": "stream",
     "text": [
      "\n",
      "Thông tin DataFrame:\n",
      "<class 'pandas.core.frame.DataFrame'>\n",
      "RangeIndex: 346 entries, 0 to 345\n",
      "Data columns (total 2 columns):\n",
      " #   Column               Non-Null Count  Dtype \n",
      "---  ------               --------------  ----- \n",
      " 0   Tên                  346 non-null    object\n",
      " 1   Giá/Th.đổi (24 giờ)  346 non-null    object\n",
      "dtypes: object(2)\n",
      "memory usage: 5.5+ KB\n"
     ]
    }
   ],
   "source": [
    "print(\"\\nThông tin DataFrame:\")\n",
    "df.info()"
   ]
  },
  {
   "cell_type": "markdown",
   "metadata": {},
   "source": [
    "Thống kê mô tả cơ bản (cho các cột số)"
   ]
  },
  {
   "cell_type": "code",
   "execution_count": 6,
   "metadata": {},
   "outputs": [
    {
     "name": "stdout",
     "output_type": "stream",
     "text": [
      "\n",
      "Thống kê mô tả:\n",
      "                   Tên Giá/Th.đổi (24 giờ)\n",
      "count              346                 346\n",
      "unique             346                 312\n",
      "top     BETHBeacon ETH                $0--\n",
      "freq                 1                  35\n"
     ]
    }
   ],
   "source": [
    "print(\"\\nThống kê mô tả:\")\n",
    "print(df.describe())"
   ]
  }
 ],
 "metadata": {
  "kernelspec": {
   "display_name": "Python 3",
   "language": "python",
   "name": "python3"
  },
  "language_info": {
   "codemirror_mode": {
    "name": "ipython",
    "version": 3
   },
   "file_extension": ".py",
   "mimetype": "text/x-python",
   "name": "python",
   "nbconvert_exporter": "python",
   "pygments_lexer": "ipython3",
   "version": "3.13.2"
  }
 },
 "nbformat": 4,
 "nbformat_minor": 2
}
