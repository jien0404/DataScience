{
 "cells": [
  {
   "cell_type": "code",
   "execution_count": null,
   "id": "dc3600c3-da6a-46ad-9737-30ccfbe044d9",
   "metadata": {},
   "outputs": [],
   "source": [
    "import pandas as pd"
   ]
  },
  {
   "cell_type": "code",
   "execution_count": null,
   "id": "d4a96f54-5039-48ae-afba-6e58027556c2",
   "metadata": {},
   "outputs": [],
   "source": [
    "df = pd.read_csv(\"stock_data.csv\", encoding=\"utf-8-sig\")\n",
    "df.head()  # Hiển thị 5 dòng đầu tiên"
   ]
  },
  {
   "cell_type": "code",
   "execution_count": null,
   "id": "71b1c9a3-3850-40c8-a7f3-d8e8fdfcd5ea",
   "metadata": {},
   "outputs": [],
   "source": [
    "df.columns = [\n",
    "    \"Mã CP\", \"Thay đổi\", \"Giá hiện tại\", \"Giá trần\", \"Giá sàn\", \n",
    "    \"Khối lượng\", \"Giá mua 1\", \"KL mua 1\", \"Giá mua 2\", \"KL mua 2\",\n",
    "    \"Giá mua 3\", \"KL mua 3\", \"Giá khớp\", \"KL khớp\", \"Thay đổi giá\",\n",
    "    \"Phần trăm thay đổi\", \"Giá bán 1\", \"KL bán 1\", \"Giá bán 2\",\n",
    "    \"KL bán 2\", \"Giá bán 3\", \"KL bán 3\", \"Giá cuối cùng\",\n",
    "    \"KL cuối cùng\", \"Khối lượng tổng\"\n",
    "]\n",
    "df.head()"
   ]
  },
  {
   "cell_type": "code",
   "execution_count": null,
   "id": "a284b647-cf44-45bf-a440-ff16a4071fa3",
   "metadata": {},
   "outputs": [],
   "source": [
    "# Chuyển cột số từ string -> float\n",
    "numeric_cols = [\"Giá hiện tại\", \"Giá trần\", \"Giá sàn\", \"Giá khớp\", \"Khối lượng\"]\n",
    "for col in numeric_cols:\n",
    "    df[col] = df[col].replace(\",\", \".\", regex=True).astype(float)\n",
    "\n",
    "df.dtypes  # Kiểm tra kiểu dữ liệu"
   ]
  },
  {
   "cell_type": "code",
   "execution_count": null,
   "id": "26b9dd7b-1878-4a3b-b360-0cee2ec2e292",
   "metadata": {},
   "outputs": [],
   "source": [
    "df[df[\"Thay đổi\"] > 0]"
   ]
  }
 ],
 "metadata": {
  "kernelspec": {
   "display_name": "Python 3 (ipykernel)",
   "language": "python",
   "name": "python3"
  },
  "language_info": {
   "codemirror_mode": {
    "name": "ipython",
    "version": 3
   },
   "file_extension": ".py",
   "mimetype": "text/x-python",
   "name": "python",
   "nbconvert_exporter": "python",
   "pygments_lexer": "ipython3",
   "version": "3.13.2"
  }
 },
 "nbformat": 4,
 "nbformat_minor": 5
}
